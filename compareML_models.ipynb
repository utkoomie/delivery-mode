{
 "cells": [
  {
   "cell_type": "markdown",
   "metadata": {},
   "source": [
    "### Machine-learning Model Evaluation for Mode of Delivery Predictions Using CDC Vital Statistics Data\n",
    "Perform 10-fold cross-validation on training set using 3 different classifiers and increasing number of model parameters. Relies on filtered input data created by companion **deliveryMode** notebook.<br><br>\n",
    "&copy; 2018-2022 Karl W. Schulz<br>\n",
    "University of Texas<br>\n",
    "***\n"
   ]
  },
  {
   "cell_type": "code",
   "execution_count": 1,
   "metadata": {},
   "outputs": [],
   "source": [
    "import pickle\n",
    "import utils\n",
    "import ml_utils\n",
    "import time\n",
    "from xgboost import XGBClassifier\n",
    "from sklearn.model_selection import train_test_split, KFold, GridSearchCV, cross_val_score\n",
    "from sklearn.naive_bayes import GaussianNB, ComplementNB\n",
    "from sklearn.ensemble import RandomForestClassifier, AdaBoostClassifier\n",
    "from sklearn.metrics import confusion_matrix, roc_auc_score, precision_score, recall_score, classification_report\n",
    "from sklearn.metrics import accuracy_score, f1_score, brier_score_loss\n",
    "from sklearn import preprocessing\n",
    "from sklearn.model_selection import StratifiedKFold\n",
    "from sklearn.calibration import CalibratedClassifierCV, calibration_curve\n",
    "from sklearn.utils.class_weight import compute_sample_weight\n",
    "timer = utils.timer()"
   ]
  },
  {
   "cell_type": "markdown",
   "metadata": {},
   "source": [
    "#### Load filtered data from training set"
   ]
  },
  {
   "cell_type": "code",
   "execution_count": 2,
   "metadata": {},
   "outputs": [],
   "source": [
    "file = open('data/filtered.training.pickle', 'rb')\n",
    "data = pickle.load(file)\n",
    "file.close()"
   ]
  },
  {
   "cell_type": "markdown",
   "metadata": {},
   "source": [
    "### Define modeling parameters for $t_{early}$ (bin1) and $t_{term}$ scenarios (bin2)"
   ]
  },
  {
   "cell_type": "code",
   "execution_count": 3,
   "metadata": {},
   "outputs": [],
   "source": [
    "params = {}\n",
    "params['bin1'] = ['mager','lbo','tbo',\n",
    "                 'rf_ppterm_bool','rf_cesar_bool','rf_cesarn','rf_diab_bool','rf_phyp_bool','rf_eclam_bool',\n",
    "                 'cig_0','cig_1','cig_2','cig_3',\n",
    "                 'bmi_r','pwgt_r',\n",
    "                 'mbrace_1',  'mbrace_2',  'mbrace_3',  'mbrace_4', 'mbrace_5',\n",
    "                 'mbrace_6',  'mbrace_7',  'mbrace_8',  'mbrace_9', 'mbrace_10',\n",
    "                 'mbrace_11', 'mbrace_12', 'mbrace_13', 'mbrace_14','mbrace_15',\n",
    "                 'umhisp_0',  'umhisp_1',  'umhisp_2',  'umhisp_3', 'umhisp_4', 'umhisp_5', 'umhisp_9',\n",
    "             ]\n",
    "params['bin2'] = params['bin1'] + ['rf_ghyp_bool','rf_gest_bool', 'previs_rec','combgest','wtgain_rec']\n",
    "\n",
    "# define number of modeling subfeatures to consider\n",
    "subFeatureCounts = [5,10,15,20]\n",
    "\n",
    "# Define classification variable and weights\n",
    "modelY = data.filter(items=['non_elective'])\n",
    "weight = compute_sample_weight(class_weight='balanced', y=modelY)\n",
    "\n",
    "# Define classification variable\n",
    "qoi    = ['non_elective']\n",
    "modelY = data.filter(items=['non_elective'])\n",
    "\n",
    "# choose scoring metrics\n",
    "metrics = ['roc_auc', 'accuracy','recall','f1','precision','brier_score_loss']\n",
    "\n",
    "# define random seed\n",
    "random_state=42\n",
    "\n",
    "scores = {}"
   ]
  },
  {
   "cell_type": "markdown",
   "metadata": {},
   "source": [
    "#### &rarr;  XGBoost Model Evaluation"
   ]
  },
  {
   "cell_type": "code",
   "execution_count": 4,
   "metadata": {},
   "outputs": [
    {
     "name": "stdout",
     "output_type": "stream",
     "text": [
      "\n",
      "Running XGBClassifier for bin1 params\n",
      "max # of params = 36\n",
      "Total time to perform single train using all parameters = 100.832 (secs)\n",
      "Sorting features based on SHAP importance\n",
      "\n",
      "--> Running cross-validation for 5 features\n",
      "Total time to perform cross-validation for 5 features = 655.427 (secs)\n",
      "\n",
      "--> Running cross-validation for 10 features\n",
      "Total time to perform cross-validation for 10 features = 782.193 (secs)\n",
      "\n",
      "--> Running cross-validation for 15 features\n",
      "Total time to perform cross-validation for 15 features = 769.239 (secs)\n",
      "\n",
      "--> Running cross-validation for 20 features\n",
      "Total time to perform cross-validation for 20 features = 825.485 (secs)\n",
      "\n",
      "--> Running cross-validation for 36 features\n",
      "Total time to perform cross-validation for all 36 features = 950.292 (secs)\n",
      "\n",
      "                   Model       AUC          Accuracy         Recall            F1           Brier    \n",
      "--------------------------------------------------------------------------------------------------------------\n",
      "              XGB-bin1-5  0.765 +/- 0.009  0.635 +/- 0.014  0.789 +/- 0.013  0.317 +/- 0.007  0.201 +/- 0.008\n",
      "             XGB-bin1-10  0.769 +/- 0.008  0.640 +/- 0.019  0.788 +/- 0.017  0.319 +/- 0.008  0.199 +/- 0.010\n",
      "             XGB-bin1-15  0.770 +/- 0.008  0.640 +/- 0.019  0.788 +/- 0.017  0.320 +/- 0.008  0.198 +/- 0.010\n",
      "             XGB-bin1-20  0.770 +/- 0.008  0.640 +/- 0.019  0.788 +/- 0.016  0.320 +/- 0.008  0.199 +/- 0.010\n",
      "             XGB-bin1-36  0.770 +/- 0.008  0.640 +/- 0.019  0.788 +/- 0.017  0.320 +/- 0.008  0.199 +/- 0.010\n",
      "\n",
      "Running XGBClassifier for bin2 params\n",
      "max # of params = 41\n",
      "Total time to perform single train using all parameters = 100.153 (secs)\n",
      "Sorting features based on SHAP importance\n",
      "\n",
      "--> Running cross-validation for 5 features\n",
      "Total time to perform cross-validation for 5 features = 662.309 (secs)\n",
      "\n",
      "--> Running cross-validation for 10 features\n",
      "Total time to perform cross-validation for 10 features = 705.688 (secs)\n",
      "\n",
      "--> Running cross-validation for 15 features\n",
      "Total time to perform cross-validation for 15 features = 806.021 (secs)\n",
      "\n",
      "--> Running cross-validation for 20 features\n",
      "Total time to perform cross-validation for 20 features = 843.815 (secs)\n",
      "\n",
      "--> Running cross-validation for 41 features\n",
      "Total time to perform cross-validation for all 41 features = 977.869 (secs)\n",
      "\n",
      "                   Model       AUC          Accuracy         Recall            F1           Brier    \n",
      "--------------------------------------------------------------------------------------------------------------\n",
      "              XGB-bin2-5  0.770 +/- 0.009  0.657 +/- 0.015  0.771 +/- 0.014  0.326 +/- 0.008  0.198 +/- 0.006\n",
      "             XGB-bin2-10  0.778 +/- 0.007  0.667 +/- 0.017  0.769 +/- 0.016  0.332 +/- 0.009  0.195 +/- 0.010\n",
      "             XGB-bin2-15  0.780 +/- 0.008  0.669 +/- 0.019  0.768 +/- 0.018  0.333 +/- 0.009  0.194 +/- 0.011\n",
      "             XGB-bin2-20  0.781 +/- 0.008  0.668 +/- 0.019  0.771 +/- 0.016  0.333 +/- 0.009  0.194 +/- 0.011\n",
      "             XGB-bin2-41  0.781 +/- 0.008  0.668 +/- 0.020  0.771 +/- 0.017  0.333 +/- 0.009  0.194 +/- 0.011\n"
     ]
    }
   ],
   "source": [
    "clf = XGBClassifier(random_state=random_state,n_jobs=-1,tree_method='exact')\n",
    "\n",
    "scores[\"xgboost-bin1\"] = ml_utils.cross_validation_with_subfeatures(clf,subFeatureCounts,'bin1',params,metrics,data,modelY,weight)\n",
    "scores[\"xgboost-bin2\"] = ml_utils.cross_validation_with_subfeatures(clf,subFeatureCounts,'bin2',params,metrics,data,modelY,weight)"
   ]
  },
  {
   "cell_type": "markdown",
   "metadata": {},
   "source": [
    "#### &rarr;  AdaBoost Model Evaluation"
   ]
  },
  {
   "cell_type": "code",
   "execution_count": 5,
   "metadata": {},
   "outputs": [
    {
     "name": "stdout",
     "output_type": "stream",
     "text": [
      "\n",
      "Running AdaBoostClassifier for bin1 params\n",
      "max # of params = 36\n",
      "Total time to perform single train using all parameters = 407.635 (secs)\n",
      "Sorting features based on gini importance\n",
      "\n",
      "--> Running cross-validation for 5 features\n",
      "Total time to perform cross-validation for 5 features = 2010.527 (secs)\n",
      "\n",
      "--> Running cross-validation for 10 features\n",
      "Total time to perform cross-validation for 10 features = 2977.303 (secs)\n",
      "\n",
      "--> Running cross-validation for 15 features\n",
      "Total time to perform cross-validation for 15 features = 2480.266 (secs)\n",
      "\n",
      "--> Running cross-validation for 20 features\n",
      "Total time to perform cross-validation for 20 features = 2685.629 (secs)\n",
      "\n",
      "--> Running cross-validation for 36 features\n",
      "Total time to perform cross-validation for all 36 features = 3583.461 (secs)\n",
      "\n",
      "                   Model       AUC          Accuracy         Recall            F1           Brier    \n",
      "--------------------------------------------------------------------------------------------------------------\n",
      "         AdaBoost-bin1-5  0.732 +/- 0.012  0.632 +/- 0.016  0.730 +/- 0.023  0.299 +/- 0.008  0.248 +/- 0.000\n",
      "        AdaBoost-bin1-10  0.765 +/- 0.009  0.632 +/- 0.014  0.793 +/- 0.012  0.317 +/- 0.007  0.247 +/- 0.000\n",
      "        AdaBoost-bin1-15  0.768 +/- 0.009  0.648 +/- 0.018  0.776 +/- 0.015  0.322 +/- 0.008  0.247 +/- 0.000\n",
      "        AdaBoost-bin1-20  0.769 +/- 0.008  0.649 +/- 0.021  0.777 +/- 0.018  0.322 +/- 0.009  0.247 +/- 0.000\n",
      "        AdaBoost-bin1-36  0.769 +/- 0.008  0.649 +/- 0.021  0.777 +/- 0.018  0.322 +/- 0.009  0.247 +/- 0.000\n",
      "\n",
      "Running AdaBoostClassifier for bin2 params\n",
      "max # of params = 41\n",
      "Total time to perform single train using all parameters = 506.081 (secs)\n",
      "Sorting features based on gini importance\n",
      "\n",
      "--> Running cross-validation for 5 features\n",
      "Total time to perform cross-validation for 5 features = 2943.708 (secs)\n",
      "\n",
      "--> Running cross-validation for 10 features\n",
      "Total time to perform cross-validation for 10 features = 2131.710 (secs)\n",
      "\n",
      "--> Running cross-validation for 15 features\n",
      "Total time to perform cross-validation for 15 features = 3951.714 (secs)\n",
      "\n",
      "--> Running cross-validation for 20 features\n",
      "Total time to perform cross-validation for 20 features = 3115.425 (secs)\n",
      "\n",
      "--> Running cross-validation for 41 features\n",
      "Total time to perform cross-validation for all 41 features = 6072.877 (secs)\n",
      "\n",
      "                   Model       AUC          Accuracy         Recall            F1           Brier    \n",
      "--------------------------------------------------------------------------------------------------------------\n",
      "         AdaBoost-bin2-5  0.734 +/- 0.012  0.637 +/- 0.017  0.727 +/- 0.027  0.301 +/- 0.008  0.248 +/- 0.000\n",
      "        AdaBoost-bin2-10  0.776 +/- 0.008  0.663 +/- 0.016  0.773 +/- 0.013  0.330 +/- 0.009  0.247 +/- 0.000\n",
      "        AdaBoost-bin2-15  0.778 +/- 0.008  0.666 +/- 0.018  0.771 +/- 0.016  0.332 +/- 0.009  0.247 +/- 0.000\n",
      "        AdaBoost-bin2-20  0.779 +/- 0.008  0.667 +/- 0.024  0.771 +/- 0.021  0.332 +/- 0.011  0.247 +/- 0.000\n",
      "        AdaBoost-bin2-41  0.779 +/- 0.007  0.669 +/- 0.024  0.769 +/- 0.021  0.333 +/- 0.011  0.247 +/- 0.000\n"
     ]
    }
   ],
   "source": [
    "clf = AdaBoostClassifier(random_state=random_state)\n",
    "scores[\"adaboost-bin1\"] = ml_utils.cross_validation_with_subfeatures(clf,subFeatureCounts,'bin1',params,metrics,data,modelY,weight)\n",
    "scores[\"adaboost-bin2\"] = ml_utils.cross_validation_with_subfeatures(clf,subFeatureCounts,'bin2',params,metrics,data,modelY,weight)"
   ]
  },
  {
   "cell_type": "markdown",
   "metadata": {},
   "source": [
    "#### &rarr;  Complement Naive Bayes Model Evaluation\n",
    "Note that this classifier does not support feature_importances directly. We pass an optional arg here (feature_log=True) to compute importance from feature_log_prob_"
   ]
  },
  {
   "cell_type": "code",
   "execution_count": 6,
   "metadata": {},
   "outputs": [
    {
     "name": "stdout",
     "output_type": "stream",
     "text": [
      "\n",
      "Running ComplementNB for bin1 params\n",
      "max # of params = 36\n",
      "Total time to perform single train using all parameters = 2.770 (secs)\n",
      "\n",
      "--> Running cross-validation for 5 features\n",
      "Total time to perform cross-validation for 5 features = 24.875 (secs)\n",
      "\n",
      "--> Running cross-validation for 10 features\n",
      "Total time to perform cross-validation for 10 features = 30.476 (secs)\n",
      "\n",
      "--> Running cross-validation for 15 features\n",
      "Total time to perform cross-validation for 15 features = 35.147 (secs)\n",
      "\n",
      "--> Running cross-validation for 20 features\n",
      "Total time to perform cross-validation for 20 features = 38.214 (secs)\n",
      "\n",
      "--> Running cross-validation for 36 features\n",
      "Total time to perform cross-validation for all 36 features = 58.186 (secs)\n",
      "\n",
      "                   Model       AUC          Accuracy         Recall            F1           Brier    \n",
      "--------------------------------------------------------------------------------------------------------------\n",
      "     ComplementNB-bin1-5  0.661 +/- 0.018  0.578 +/- 0.028  0.663 +/- 0.070  0.252 +/- 0.009  0.246 +/- 0.014\n",
      "    ComplementNB-bin1-10  0.655 +/- 0.012  0.595 +/- 0.044  0.628 +/- 0.079  0.249 +/- 0.007  0.248 +/- 0.032\n",
      "    ComplementNB-bin1-15  0.660 +/- 0.011  0.596 +/- 0.055  0.636 +/- 0.089  0.253 +/- 0.007  0.247 +/- 0.035\n",
      "    ComplementNB-bin1-20  0.691 +/- 0.009  0.621 +/- 0.055  0.651 +/- 0.072  0.270 +/- 0.008  0.237 +/- 0.034\n",
      "    ComplementNB-bin1-36  0.694 +/- 0.010  0.624 +/- 0.055  0.653 +/- 0.068  0.272 +/- 0.010  0.236 +/- 0.034\n",
      "\n",
      "Running ComplementNB for bin2 params\n",
      "max # of params = 41\n",
      "Total time to perform single train using all parameters = 2.888 (secs)\n",
      "\n",
      "--> Running cross-validation for 5 features\n",
      "Total time to perform cross-validation for 5 features = 24.912 (secs)\n",
      "\n",
      "--> Running cross-validation for 10 features\n",
      "Total time to perform cross-validation for 10 features = 32.090 (secs)\n",
      "\n",
      "--> Running cross-validation for 15 features\n",
      "Total time to perform cross-validation for 15 features = 33.558 (secs)\n",
      "\n",
      "--> Running cross-validation for 20 features\n",
      "Total time to perform cross-validation for 20 features = 44.800 (secs)\n",
      "\n",
      "--> Running cross-validation for 41 features\n",
      "Total time to perform cross-validation for all 41 features = 54.497 (secs)\n",
      "\n",
      "                   Model       AUC          Accuracy         Recall            F1           Brier    \n",
      "--------------------------------------------------------------------------------------------------------------\n",
      "     ComplementNB-bin2-5  0.559 +/- 0.018  0.613 +/- 0.042  0.464 +/- 0.073  0.204 +/- 0.009  0.251 +/- 0.018\n",
      "    ComplementNB-bin2-10  0.648 +/- 0.011  0.632 +/- 0.056  0.559 +/- 0.092  0.246 +/- 0.008  0.246 +/- 0.041\n",
      "    ComplementNB-bin2-15  0.654 +/- 0.011  0.628 +/- 0.059  0.576 +/- 0.093  0.249 +/- 0.008  0.246 +/- 0.040\n",
      "    ComplementNB-bin2-20  0.660 +/- 0.011  0.635 +/- 0.063  0.576 +/- 0.095  0.253 +/- 0.008  0.244 +/- 0.042\n",
      "    ComplementNB-bin2-41  0.691 +/- 0.011  0.657 +/- 0.061  0.600 +/- 0.072  0.274 +/- 0.013  0.233 +/- 0.041\n"
     ]
    }
   ],
   "source": [
    "clf = ComplementNB()\n",
    "scores[\"cnbayes-bin1\"] = ml_utils.cross_validation_with_subfeatures(clf,subFeatureCounts,'bin1',params,metrics,data,\n",
    "                                                                    modelY,weight,feature_log=True)\n",
    "scores[\"cnbayes-bin2\"] = ml_utils.cross_validation_with_subfeatures(clf,subFeatureCounts,'bin2',params,metrics,data,\n",
    "                                                                    modelY,weight,feature_log=True)"
   ]
  }
 ],
 "metadata": {
  "kernelspec": {
   "display_name": "Python 3",
   "language": "python",
   "name": "python3"
  },
  "language_info": {
   "codemirror_mode": {
    "name": "ipython",
    "version": 3
   },
   "file_extension": ".py",
   "mimetype": "text/x-python",
   "name": "python",
   "nbconvert_exporter": "python",
   "pygments_lexer": "ipython3",
   "version": "3.6.8"
  }
 },
 "nbformat": 4,
 "nbformat_minor": 2
}
